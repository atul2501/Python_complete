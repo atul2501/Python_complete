{
 "cells": [
  {
   "cell_type": "code",
   "execution_count": null,
   "id": "c194361c-1ffc-4e08-bbf5-b2e80d79d383",
   "metadata": {},
   "outputs": [],
   "source": [
    "#Start with anaconda\n",
    "#Welcome to python\n"
   ]
  }
 ],
 "metadata": {
  "kernelspec": {
   "display_name": "Python [conda env:base] *",
   "language": "python",
   "name": "conda-base-py"
  },
  "language_info": {
   "codemirror_mode": {
    "name": "ipython",
    "version": 3
   },
   "file_extension": ".py",
   "mimetype": "text/x-python",
   "name": "python",
   "nbconvert_exporter": "python",
   "pygments_lexer": "ipython3",
   "version": "3.12.2"
  }
 },
 "nbformat": 4,
 "nbformat_minor": 5
}
