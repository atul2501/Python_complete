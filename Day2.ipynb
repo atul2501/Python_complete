{
 "cells": [
  {
   "cell_type": "code",
   "execution_count": 5,
   "id": "86cda165-7ff9-4980-b1b2-b8de5a44c28f",
   "metadata": {},
   "outputs": [
    {
     "name": "stdout",
     "output_type": "stream",
     "text": [
      "True\n"
     ]
    }
   ],
   "source": [
    "# developed by guid ven rassum\n",
    "# it was implemented in the year 1989\n",
    "\n",
    "# python overview \n",
    "#python is very simple programming language\n",
    "#it is very powerful language\n",
    "#it is high level language\n",
    "\n",
    "#feature of python \n",
    "#easy to learn \n",
    "#readable syntac\n",
    "#free open source\n",
    "#large standard library\n",
    "\n",
    "#identifiers:\n",
    "# it is name given to the entity like varibale,class,datatypes\n",
    "#rules to create an identifier\n",
    "#should start with alphabets and underscore(_)\n",
    "#it can contan alphanumeric  but should not start with numbers\n",
    "#special symbols are not allowed except underscore\n",
    "\n",
    "name=10\n",
    "print(\"name\".isidentifier())\n"
   ]
  },
  {
   "cell_type": "code",
   "execution_count": 11,
   "id": "fddf4bb9-b92c-40f9-9fdd-e8e0e471142a",
   "metadata": {},
   "outputs": [
    {
     "name": "stdout",
     "output_type": "stream",
     "text": [
      "['False', 'None', 'True', 'and', 'as', 'assert', 'async', 'await', 'break', 'class', 'continue', 'def', 'del', 'elif', 'else', 'except', 'finally', 'for', 'from', 'global', 'if', 'import', 'in', 'is', 'lambda', 'nonlocal', 'not', 'or', 'pass', 'raise', 'return', 'try', 'while', 'with', 'yield']\n"
     ]
    }
   ],
   "source": [
    "#keywords\n",
    "\n",
    "#python we have 35 keywords\n",
    "# in idle\n",
    "#helo('keywords')\n",
    "\n",
    "#in other\n",
    "import keyword\n",
    "print(keyword.kwlist)"
   ]
  },
  {
   "cell_type": "code",
   "execution_count": 15,
   "id": "4e01b41b-58ac-4d5c-a717-edf138932093",
   "metadata": {},
   "outputs": [
    {
     "name": "stdout",
     "output_type": "stream",
     "text": [
      "10\n",
      "hari\n"
     ]
    }
   ],
   "source": [
    "#variables\n",
    "#they are used to store some values\n",
    "a=10\n",
    "print(10)\n",
    "name='hari'\n",
    "print(name)"
   ]
  },
  {
   "cell_type": "code",
   "execution_count": 21,
   "id": "abd90204-6f5d-4056-b237-69d1576b904f",
   "metadata": {},
   "outputs": [
    {
     "ename": "SyntaxError",
     "evalue": "cannot assign to None (3981243334.py, line 10)",
     "output_type": "error",
     "traceback": [
      "\u001b[0;36m  Cell \u001b[0;32mIn[21], line 10\u001b[0;36m\u001b[0m\n\u001b[0;31m    None='hari'\u001b[0m\n\u001b[0m    ^\u001b[0m\n\u001b[0;31mSyntaxError\u001b[0m\u001b[0;31m:\u001b[0m cannot assign to None\n"
     ]
    }
   ],
   "source": [
    "name_words=\"python\"\n",
    "print(name_words)\n",
    "#its called as snake case\n",
    "# it is name given to the entity like varibale,class,datatypes\n",
    "#rules to create an identifier\n",
    "#should start with alphabets and underscore(_)\n",
    "#it can contan alphanumeric  but should not start with numbers\n",
    "#special symbols are not allowed except underscore\n",
    "#we cannot use keywords as varibales\n",
    "None='hari'\n",
    "print(None)"
   ]
  },
  {
   "cell_type": "code",
   "execution_count": 30,
   "id": "f37f023b-1019-4cfd-a34d-c3bdc41306cb",
   "metadata": {},
   "outputs": [
    {
     "name": "stdout",
     "output_type": "stream",
     "text": [
      "hello world\n",
      "hello universe\n"
     ]
    }
   ],
   "source": [
    "#print() and input() functions\n",
    "#print() it is standard funtiction to print the output of the console prgram\n",
    "\n",
    "# end(): it is used to sperate two print statements and print in the same line\n",
    "#default values is'\\n'\n",
    "print(\"hello world\",end='\\n')\n",
    "print('hello universe')"
   ]
  },
  {
   "cell_type": "code",
   "execution_count": 38,
   "id": "7f239231-8f8a-40f4-8021-cd4a0ffd72c5",
   "metadata": {},
   "outputs": [
    {
     "name": "stdout",
     "output_type": "stream",
     "text": [
      "my_name_is @hari@hii\n"
     ]
    }
   ],
   "source": [
    "#sep(): it is ued to seprate values pressent in the same print statement\n",
    "#default value is white space\n",
    "\n",
    "name='hari'\n",
    "greet='hii'\n",
    "senetence='my_name_is '\n",
    "print(senetence,name,greet,sep='@')"
   ]
  },
  {
   "cell_type": "code",
   "execution_count": 41,
   "id": "fcfb9c91-498f-49c5-9286-d8a1f7e9563e",
   "metadata": {},
   "outputs": [],
   "source": [
    "#sep() is used to sepraete words\n",
    "#end() is used to seprate sentence"
   ]
  },
  {
   "cell_type": "code",
   "execution_count": 45,
   "id": "b00e5b2b-1fb9-4a10-9501-70b58811a8f7",
   "metadata": {},
   "outputs": [
    {
     "name": "stdin",
     "output_type": "stream",
     "text": [
      "enter the name atul\n"
     ]
    },
    {
     "name": "stdout",
     "output_type": "stream",
     "text": [
      "My name is  atul\n"
     ]
    }
   ],
   "source": [
    "#input function\n",
    "#it takes the user input at the run time\n",
    "name=input('enter the name')\n",
    "print('My name is ',name)"
   ]
  },
  {
   "cell_type": "code",
   "execution_count": 63,
   "id": "f436c2cc-071e-4d60-98e1-84bc814b8e43",
   "metadata": {},
   "outputs": [
    {
     "name": "stdin",
     "output_type": "stream",
     "text": [
      "enter a number :  12\n",
      "enter the number:  12\n"
     ]
    },
    {
     "name": "stdout",
     "output_type": "stream",
     "text": [
      "24\n",
      "the sum of a and b 24\n"
     ]
    }
   ],
   "source": [
    "a=int(input(\"enter a number : \"))\n",
    "b=int(input(\"enter the number: \"))\n",
    "def is_sum(a:int,b:int)->int:\n",
    "    return a + b\n",
    "\n",
    "print(is_sum(a,b))\n",
    "print('the sum of a and b',is_sum(a,b))"
   ]
  },
  {
   "cell_type": "code",
   "execution_count": null,
   "id": "dc3051a7-bdd7-4b8d-a41b-3b1ac4ff14b1",
   "metadata": {},
   "outputs": [],
   "source": []
  }
 ],
 "metadata": {
  "kernelspec": {
   "display_name": "Python [conda env:base] *",
   "language": "python",
   "name": "conda-base-py"
  },
  "language_info": {
   "codemirror_mode": {
    "name": "ipython",
    "version": 3
   },
   "file_extension": ".py",
   "mimetype": "text/x-python",
   "name": "python",
   "nbconvert_exporter": "python",
   "pygments_lexer": "ipython3",
   "version": "3.12.2"
  }
 },
 "nbformat": 4,
 "nbformat_minor": 5
}
