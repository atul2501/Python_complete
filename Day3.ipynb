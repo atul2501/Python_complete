{
 "cells": [
  {
   "cell_type": "code",
   "execution_count": 13,
   "id": "35350ed0-db59-436e-83d0-40ed517908a5",
   "metadata": {},
   "outputs": [],
   "source": [
    "# Day 3\n",
    "#operators\n"
   ]
  },
  {
   "cell_type": "code",
   "execution_count": 15,
   "id": "7a62bbaa-f9de-427d-a233-517af7d5b1b6",
   "metadata": {},
   "outputs": [],
   "source": [
    "#arthmatic operator "
   ]
  },
  {
   "cell_type": "code",
   "execution_count": 17,
   "id": "74ab5c8a-5f8a-4974-8efb-31b0142e3110",
   "metadata": {},
   "outputs": [],
   "source": [
    "#,'+',\"-\",\"%\",\"/\",\"**\",\"//\""
   ]
  },
  {
   "cell_type": "code",
   "execution_count": 23,
   "id": "610f633a-0e6f-45ca-8157-1e9663e72b03",
   "metadata": {},
   "outputs": [
    {
     "name": "stdout",
     "output_type": "stream",
     "text": [
      "12.5\n"
     ]
    }
   ],
   "source": [
    "print(25/2)"
   ]
  },
  {
   "cell_type": "code",
   "execution_count": 27,
   "id": "834aef7a-68ad-430f-890e-a1490d8e022d",
   "metadata": {},
   "outputs": [
    {
     "name": "stdout",
     "output_type": "stream",
     "text": [
      "12\n"
     ]
    }
   ],
   "source": [
    "print(25//2)"
   ]
  },
  {
   "cell_type": "code",
   "execution_count": 29,
   "id": "64275224-978c-4f81-9af1-f38b45895543",
   "metadata": {},
   "outputs": [],
   "source": [
    "## assignment operator"
   ]
  },
  {
   "cell_type": "code",
   "execution_count": 31,
   "id": "87adfb1c-11aa-4db2-880f-baf63581f0a7",
   "metadata": {},
   "outputs": [
    {
     "name": "stdout",
     "output_type": "stream",
     "text": [
      "10\n"
     ]
    }
   ],
   "source": [
    "# \"=\" \n",
    "a=10\n",
    "print(a)"
   ]
  },
  {
   "cell_type": "code",
   "execution_count": 33,
   "id": "a37e6f5c-673a-42f9-8977-26fa88340360",
   "metadata": {},
   "outputs": [
    {
     "name": "stdout",
     "output_type": "stream",
     "text": [
      "12\n"
     ]
    }
   ],
   "source": [
    "a=a+2\n",
    "print(a)"
   ]
  },
  {
   "cell_type": "code",
   "execution_count": 39,
   "id": "fb7ca635-9b82-46f5-8b33-1d53e7f0ad05",
   "metadata": {},
   "outputs": [
    {
     "name": "stdout",
     "output_type": "stream",
     "text": [
      "27\n"
     ]
    }
   ],
   "source": [
    "# compoun assignment opertor \n",
    "a+=5\n",
    "print(a)"
   ]
  },
  {
   "cell_type": "code",
   "execution_count": 41,
   "id": "c15ef3db-77c2-4f1a-b8fd-51798e7b0a04",
   "metadata": {},
   "outputs": [
    {
     "data": {
      "text/plain": [
       "('<', '>', '<=', '=>', '==')"
      ]
     },
     "execution_count": 41,
     "metadata": {},
     "output_type": "execute_result"
    }
   ],
   "source": [
    "# comparison or relation operator \n",
    "\"<\",\">\",\"<=\",\"=>\",\"==\""
   ]
  },
  {
   "cell_type": "code",
   "execution_count": 43,
   "id": "54e8bc94-e1b8-4d9e-8a05-1782ac8a547d",
   "metadata": {},
   "outputs": [
    {
     "name": "stdout",
     "output_type": "stream",
     "text": [
      "False\n"
     ]
    }
   ],
   "source": [
    "a=6\n",
    "print(a==10)"
   ]
  },
  {
   "cell_type": "code",
   "execution_count": 55,
   "id": "6f830c20-1910-4cf9-8aa0-51b8be07aaca",
   "metadata": {},
   "outputs": [
    {
     "name": "stdout",
     "output_type": "stream",
     "text": [
      "True\n",
      "True\n"
     ]
    }
   ],
   "source": [
    "#logical operators\n",
    "#and\n",
    "#or\n",
    "#not\n",
    "\n",
    "#and operator truth table\n",
    "#True - True =True\n",
    "#True - False=Fasle\n",
    "#false - True =False\n",
    "#False - False -False\n",
    "\n",
    "# or operatir truth table\n",
    "#truw-True =True\n",
    "#true -False=True\n",
    "#False -True=True\n",
    "#false -False =False\n",
    "\n",
    "\n",
    "#not opertor \n",
    "#it will reverse the output \n",
    "#membership opertor \n",
    "#in : if the value present in the data it will give True \n",
    "# not in : if the value is not present in the data then it will give True\n",
    "\n",
    "word=\"python is a language\"\n",
    "print(\"p\" in word)\n",
    "print('thon' in word)"
   ]
  },
  {
   "cell_type": "code",
   "execution_count": 59,
   "id": "96fd74b2-0204-4992-bdd8-e31b6d450019",
   "metadata": {},
   "outputs": [
    {
     "name": "stdout",
     "output_type": "stream",
     "text": [
      "x is smaller then 10\n"
     ]
    }
   ],
   "source": [
    "##Ternary operator \n",
    "# in python it is shortest way of writting if an else condition is single line\n",
    "\n",
    "#normal exmple\n",
    "\n",
    "x=5\n",
    "if x >10:\n",
    "    print(\"x is grater than 10\")\n",
    "else:\n",
    "    print(\"x is smaller then 10\")"
   ]
  },
  {
   "cell_type": "code",
   "execution_count": 67,
   "id": "b18b8865-f4f6-4189-b28c-8f9be31d699e",
   "metadata": {},
   "outputs": [
    {
     "name": "stdout",
     "output_type": "stream",
     "text": [
      "x is smaller then 10 \n"
     ]
    }
   ],
   "source": [
    "# ternary operator \n",
    "#syntax value1 if condition else value 2\n",
    "\n",
    "result = \"x is smaller then 10 \" if x<10 else \"X is greaterthan 10\"\n",
    "print(result)"
   ]
  },
  {
   "cell_type": "code",
   "execution_count": 92,
   "id": "82e16f56-ed8a-47e9-8729-ef9df0d663a7",
   "metadata": {},
   "outputs": [
    {
     "name": "stdin",
     "output_type": "stream",
     "text": [
      "enter your name atul\n"
     ]
    },
    {
     "name": "stdout",
     "output_type": "stream",
     "text": [
      "welcome  atul\n"
     ]
    }
   ],
   "source": [
    "name =input(\"enter your name\")\n",
    "result=f'welcome  {name}' if name=='atul' else \"you  are  not atul\"\n",
    "print(result)"
   ]
  },
  {
   "cell_type": "code",
   "execution_count": null,
   "id": "26149d60-cdb9-4969-b0a1-71246cff9417",
   "metadata": {},
   "outputs": [],
   "source": []
  },
  {
   "cell_type": "code",
   "execution_count": null,
   "id": "b37bd406-d691-45c1-bbc0-e57d2b3fe269",
   "metadata": {},
   "outputs": [],
   "source": []
  }
 ],
 "metadata": {
  "kernelspec": {
   "display_name": "Python [conda env:base] *",
   "language": "python",
   "name": "conda-base-py"
  },
  "language_info": {
   "codemirror_mode": {
    "name": "ipython",
    "version": 3
   },
   "file_extension": ".py",
   "mimetype": "text/x-python",
   "name": "python",
   "nbconvert_exporter": "python",
   "pygments_lexer": "ipython3",
   "version": "3.12.2"
  }
 },
 "nbformat": 4,
 "nbformat_minor": 5
}
