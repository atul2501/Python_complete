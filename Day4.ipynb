{
 "cells": [
  {
   "cell_type": "code",
   "execution_count": 6,
   "id": "8ff28619-dba6-4725-95d0-c8e4de710e96",
   "metadata": {},
   "outputs": [
    {
     "name": "stdout",
     "output_type": "stream",
     "text": [
      "this is atul \n"
     ]
    }
   ],
   "source": [
    "#if else\n",
    "a='atul'\n",
    "result='this is atul ' if a=='atul' else 'this is you'\n",
    "print(result)"
   ]
  },
  {
   "cell_type": "code",
   "execution_count": 8,
   "id": "a13ea46d-2e31-45d3-9313-fa704647b1e5",
   "metadata": {},
   "outputs": [
    {
     "data": {
      "text/plain": [
       "('str', 'int', 'float', 'boolen')"
      ]
     },
     "execution_count": 8,
     "metadata": {},
     "output_type": "execute_result"
    }
   ],
   "source": [
    "#Data types\n",
    "'str','int','float','boolen'"
   ]
  },
  {
   "cell_type": "code",
   "execution_count": 10,
   "id": "7dfa1fc4-7341-4a8f-b0b7-cf15dbcce12d",
   "metadata": {},
   "outputs": [
    {
     "name": "stdout",
     "output_type": "stream",
     "text": [
      "<class 'int'>\n",
      "<class 'float'>\n",
      "<class 'str'>\n"
     ]
    }
   ],
   "source": [
    "a=10\n",
    "print(type(a))\n",
    "b=5.3\n",
    "print(type(b))\n",
    "c='hello'\n",
    "print(type(c))"
   ]
  },
  {
   "cell_type": "code",
   "execution_count": 23,
   "id": "92ad261f-b2b9-468c-9c6c-089300135f81",
   "metadata": {},
   "outputs": [
    {
     "data": {
      "text/plain": [
       "'it will hold numeric values'"
      ]
     },
     "execution_count": 23,
     "metadata": {},
     "output_type": "execute_result"
    }
   ],
   "source": [
    "#data types are classified into two types\n",
    "#indiviual datatypes\n",
    "#collection datatypes\n",
    "\n",
    "#indivdual datatypes\n",
    "'it will hold numeric values'\n",
    "#integer\n",
    "#float\n",
    "#complex number\n",
    "#boolean"
   ]
  },
  {
   "cell_type": "code",
   "execution_count": 27,
   "id": "e20fe20a-ecc9-4fa8-8d0a-92af2eb1c7f2",
   "metadata": {},
   "outputs": [
    {
     "name": "stdout",
     "output_type": "stream",
     "text": [
      "<class 'int'>\n"
     ]
    }
   ],
   "source": [
    "#integer\n",
    "a=-10\n",
    "print(type(a))"
   ]
  },
  {
   "cell_type": "code",
   "execution_count": 29,
   "id": "b48a8277-5c4a-4b96-9a0e-69a8a41662fb",
   "metadata": {},
   "outputs": [
    {
     "name": "stdout",
     "output_type": "stream",
     "text": [
      "10\n"
     ]
    }
   ],
   "source": [
    "#abs() it will convert negative value into positive\n",
    "print(abs(a))"
   ]
  },
  {
   "cell_type": "code",
   "execution_count": 31,
   "id": "728c51c8-d225-4e65-8516-efd0314eeeda",
   "metadata": {},
   "outputs": [
    {
     "name": "stdout",
     "output_type": "stream",
     "text": [
      "4.5\n"
     ]
    }
   ],
   "source": [
    "#float\n",
    "b = -4.5\n",
    "print(abs(b))"
   ]
  },
  {
   "cell_type": "code",
   "execution_count": 35,
   "id": "402a9473-b1a4-4ef3-bd89-9568870b999c",
   "metadata": {},
   "outputs": [
    {
     "name": "stdout",
     "output_type": "stream",
     "text": [
      "(2+3j)\n"
     ]
    }
   ],
   "source": [
    "#com[lex number\n",
    "a=2+3j\n",
    "b=2\n",
    "c=3\n",
    "print(complex(b, c))"
   ]
  },
  {
   "cell_type": "code",
   "execution_count": 39,
   "id": "ae724837-071d-4362-9fb7-78b6755a8729",
   "metadata": {},
   "outputs": [
    {
     "name": "stdout",
     "output_type": "stream",
     "text": [
      "1\n",
      "0\n"
     ]
    }
   ],
   "source": [
    "#boolen value\n",
    "#it is defined by True or False\n",
    "#in python boolen values can be represented by number\n",
    "print(int(True))\n",
    "print(int(False))"
   ]
  },
  {
   "cell_type": "code",
   "execution_count": null,
   "id": "af177955-cc01-406e-919e-94503dac494d",
   "metadata": {},
   "outputs": [],
   "source": [
    "#colection datatypes\n",
    "#string\n",
    "#list \n",
    "#tuple\n",
    "#set\n",
    "#dictionary"
   ]
  },
  {
   "cell_type": "code",
   "execution_count": 41,
   "id": "04185831-a490-45ca-ba2a-1f88f2b04644",
   "metadata": {},
   "outputs": [],
   "source": [
    "#string \n",
    "#collection of charactors(letters,n numbers,special symbols,whitespace)"
   ]
  },
  {
   "cell_type": "code",
   "execution_count": 45,
   "id": "c808d803-ece7-420a-98f7-020379524fc5",
   "metadata": {},
   "outputs": [
    {
     "name": "stdout",
     "output_type": "stream",
     "text": [
      "hello world\n",
      "hello\n",
      "\n",
      "hii\n",
      "hello how are you \n",
      "\n"
     ]
    }
   ],
   "source": [
    "#string in python are surrondded by wither single quote or double quote or tripe quote\n",
    "#it is imutable datatype\n",
    "#once they are created they cannot be modified and any operation u r trying to mofiy it will create the new string\n",
    "#length if the string thwy cannot be modified and any operation u r trying to mofied it will create the new string \n",
    "#length of string : len(string)\n",
    "#syntax : var_name ='string'\n",
    "word='hello world'\n",
    "print(word)\n",
    "\n",
    "word ='hello'\n",
    "print(word)\n",
    "\n",
    "#tripe quote\n",
    "my_message=\"\"\"\n",
    "hii\n",
    "hello how are you \n",
    "\"\"\"\n",
    "print(my_message)"
   ]
  },
  {
   "cell_type": "code",
   "execution_count": 49,
   "id": "68d0f0d9-bd7c-475d-bf94-4bd027b0ea54",
   "metadata": {},
   "outputs": [
    {
     "name": "stdout",
     "output_type": "stream",
     "text": [
      "hello world\n"
     ]
    }
   ],
   "source": [
    "word=str('hello world')\n",
    "print(word)"
   ]
  },
  {
   "cell_type": "code",
   "execution_count": 57,
   "id": "8edd3ba0-9d5b-4452-b00a-1b564e02db7f",
   "metadata": {},
   "outputs": [],
   "source": [
    "#empty string\n",
    "word=\"\"\n",
    "word=str()"
   ]
  },
  {
   "cell_type": "code",
   "execution_count": 63,
   "id": "c7e8e3f7-4747-498d-a44d-48c0f2861a2f",
   "metadata": {},
   "outputs": [
    {
     "name": "stdout",
     "output_type": "stream",
     "text": [
      "hello \task from python \n",
      " worlds\n"
     ]
    }
   ],
   "source": [
    "# regular string and row string\n",
    "#regular \n",
    "s='hello \\task from python \\n worlds'\n",
    "print(s)"
   ]
  },
  {
   "cell_type": "code",
   "execution_count": 67,
   "id": "4da4d8ab-a1b7-449d-a0ca-ae9457ade0c9",
   "metadata": {},
   "outputs": [
    {
     "name": "stdout",
     "output_type": "stream",
     "text": [
      "hello \\task from pytho\\n world\n"
     ]
    }
   ],
   "source": [
    "#raw string\n",
    "s=r'hello \\task from pytho\\n world'\n",
    "print(s)"
   ]
  },
  {
   "cell_type": "code",
   "execution_count": 71,
   "id": "ea58e674-6f81-4dde-b695-7665da1a0384",
   "metadata": {},
   "outputs": [],
   "source": [
    "#indexing:\n",
    "#process of extrac thing single character at a time\n",
    "#indexing can be postive (start with 0) or can be negative(starts with -1)\n",
    "\n",
    "#syntax:var_name[index]\n",
    "s=\"hello\""
   ]
  },
  {
   "cell_type": "code",
   "execution_count": 84,
   "id": "5816a78d-6078-43db-8bd6-49352cd8b886",
   "metadata": {},
   "outputs": [
    {
     "name": "stdout",
     "output_type": "stream",
     "text": [
      "e\n",
      "olleh\n"
     ]
    }
   ],
   "source": [
    "print(s[1])\n",
    "print(s[::-1])"
   ]
  },
  {
   "cell_type": "code",
   "execution_count": 90,
   "id": "f4f2ff31-7594-406e-a88d-376ff6589312",
   "metadata": {},
   "outputs": [],
   "source": [
    "#slicing a string\n",
    "#process of extracting multiple chararctres at a time\n",
    "#syntax:var_name[startindex:ending:stepvalue]\n",
    "#start index:default value is 0(optional)\n",
    "#endindex:default value is length of the string(optional)\n",
    "#end index is always excluded\n",
    "#stepvalue :default value is 1\n",
    "word1=\"hello world\"\n"
   ]
  },
  {
   "cell_type": "code",
   "execution_count": 104,
   "id": "7dadb09c-97ef-4dc6-b885-6a3499364c55",
   "metadata": {},
   "outputs": [
    {
     "name": "stdout",
     "output_type": "stream",
     "text": [
      "hello \n",
      "hel\n",
      "hello world\n",
      "dlrow olleh\n",
      "hlowrd\n",
      "drwolh\n"
     ]
    }
   ],
   "source": [
    "\n",
    "print(word1[0:6])\n",
    "print(word1[0:3])\n",
    "print(word1[0::])\n",
    "print(word1[::-1])\n",
    "print(word1[::2])\n",
    "print(word1[::-2])"
   ]
  },
  {
   "cell_type": "code",
   "execution_count": 106,
   "id": "71df073d-80a4-47f4-8409-76bcb71be9b0",
   "metadata": {},
   "outputs": [
    {
     "name": "stdout",
     "output_type": "stream",
     "text": [
      "['__add__', '__class__', '__contains__', '__delattr__', '__dir__', '__doc__', '__eq__', '__format__', '__ge__', '__getattribute__', '__getitem__', '__getnewargs__', '__getstate__', '__gt__', '__hash__', '__init__', '__init_subclass__', '__iter__', '__le__', '__len__', '__lt__', '__mod__', '__mul__', '__ne__', '__new__', '__reduce__', '__reduce_ex__', '__repr__', '__rmod__', '__rmul__', '__setattr__', '__sizeof__', '__str__', '__subclasshook__', 'capitalize', 'casefold', 'center', 'count', 'encode', 'endswith', 'expandtabs', 'find', 'format', 'format_map', 'index', 'isalnum', 'isalpha', 'isascii', 'isdecimal', 'isdigit', 'isidentifier', 'islower', 'isnumeric', 'isprintable', 'isspace', 'istitle', 'isupper', 'join', 'ljust', 'lower', 'lstrip', 'maketrans', 'partition', 'removeprefix', 'removesuffix', 'replace', 'rfind', 'rindex', 'rjust', 'rpartition', 'rsplit', 'rstrip', 'split', 'splitlines', 'startswith', 'strip', 'swapcase', 'title', 'translate', 'upper', 'zfill']\n"
     ]
    }
   ],
   "source": [
    "print(dir(word1))"
   ]
  },
  {
   "cell_type": "code",
   "execution_count": 112,
   "id": "bcf35780-f241-4c73-aaeb-d4a5341d7979",
   "metadata": {},
   "outputs": [
    {
     "name": "stdout",
     "output_type": "stream",
     "text": [
      "hello world\n",
      "HARIPRIYA\n"
     ]
    }
   ],
   "source": [
    "#string methods\n",
    "#lower()\n",
    "#syntax:string.lower()\n",
    "s=\"HeLLO World\"\n",
    "print(s.lower())\n",
    "\n",
    "#upper()\n",
    "#syntax string.upper()\n",
    "a='HariPriya'\n",
    "print(a.upper())"
   ]
  },
  {
   "cell_type": "code",
   "execution_count": 114,
   "id": "712031be-da19-48f5-964f-6ea29ff0d597",
   "metadata": {},
   "outputs": [],
   "source": [
    "#swapcase():convert uppercase to lower and lower to upper\n",
    "#syntax:string.swapcase()\n",
    "words=\"Hii Hello HOW ARE YOU GOOD morning\""
   ]
  },
  {
   "cell_type": "code",
   "execution_count": 116,
   "id": "b8229021-b27d-4ead-8320-47eb724570d8",
   "metadata": {},
   "outputs": [
    {
     "name": "stdout",
     "output_type": "stream",
     "text": [
      "hII hELLO how are you good MORNING\n"
     ]
    }
   ],
   "source": [
    "print(words.swapcase())"
   ]
  },
  {
   "cell_type": "code",
   "execution_count": 122,
   "id": "35e24259-839e-4daf-af6a-9ca70c339acb",
   "metadata": {},
   "outputs": [
    {
     "name": "stdout",
     "output_type": "stream",
     "text": [
      "2\n"
     ]
    }
   ],
   "source": [
    "#Count():it will give the count of character\n",
    "#syntax:string.count(\"substring\",si,ei)\n",
    "message=\"hello world ,hello universe\"\n",
    "print(message.count(\"l\",0,7))"
   ]
  },
  {
   "cell_type": "code",
   "execution_count": 136,
   "id": "ddc2cb47-70c1-4ea0-ba97-9599b43e6ba4",
   "metadata": {},
   "outputs": [
    {
     "name": "stdout",
     "output_type": "stream",
     "text": [
      "mqlqyam\n"
     ]
    }
   ],
   "source": [
    "#replace():it will replace specified value with another specified value \n",
    "#syntax:string.replace(oldvalue,newvalue,count)\n",
    "language='malayam'\n",
    "print(language.replace(\"a\",\"q\",2))\n"
   ]
  },
  {
   "cell_type": "code",
   "execution_count": 138,
   "id": "a1844645-bff9-4907-951e-ec78da1ce460",
   "metadata": {},
   "outputs": [
    {
     "name": "stdout",
     "output_type": "stream",
     "text": [
      "2\n",
      "-1\n"
     ]
    }
   ],
   "source": [
    "#find and rfind()\n",
    "#find():find accurance of teh specified value\n",
    "my_word='hello world'\n",
    "print(my_word.find(\"l\"))\n",
    "print(my_word.find(\"z\"))"
   ]
  },
  {
   "cell_type": "code",
   "execution_count": 142,
   "id": "259ebf23-15bd-4107-be9d-6b5bd2a7291d",
   "metadata": {},
   "outputs": [
    {
     "name": "stdout",
     "output_type": "stream",
     "text": [
      "9\n",
      "-1\n"
     ]
    }
   ],
   "source": [
    "#rfind():last occurance of the specified value\n",
    "print(my_word.rfind((\"l\")))\n",
    "print(my_word.rfind(\"z\"))"
   ]
  },
  {
   "cell_type": "code",
   "execution_count": 154,
   "id": "d9d0fdf8-9c4f-4efe-86a6-97029a7a0b4c",
   "metadata": {},
   "outputs": [
    {
     "name": "stdout",
     "output_type": "stream",
     "text": [
      "2\n",
      "9\n"
     ]
    }
   ],
   "source": [
    "#index and rindex()\n",
    "#index():first occurance of the specifed value\n",
    "my_word=\"hello world\"\n",
    "print(my_word.index(\"l\"))\n",
    "print(my_word.rindex(\"l\"))\n",
    "#print(my_word.rindex(\"z\"))"
   ]
  },
  {
   "cell_type": "code",
   "execution_count": 158,
   "id": "bc211f1f-7965-4856-8515-f9e22fcffd03",
   "metadata": {},
   "outputs": [
    {
     "name": "stdout",
     "output_type": "stream",
     "text": [
      "True\n",
      "False\n"
     ]
    }
   ],
   "source": [
    "#startswith():return True if the string start with specifed value\n",
    "s=\"hii how are you \"\n",
    "print(s.startswith(\"h\"))\n",
    "print(s.startswith(\"p\"))"
   ]
  },
  {
   "cell_type": "code",
   "execution_count": 172,
   "id": "f900ca38-9971-4abb-99d8-b5639c9cf545",
   "metadata": {},
   "outputs": [
    {
     "name": "stdout",
     "output_type": "stream",
     "text": [
      "False\n",
      "False\n"
     ]
    }
   ],
   "source": [
    "#endswith(): \n",
    "a='hello world' \n",
    "print(a.endswith(\"h\")) \n",
    "print(a.endswith(\"u\"))"
   ]
  },
  {
   "cell_type": "code",
   "execution_count": 174,
   "id": "4c12071c-96cf-4683-8d16-dc8e73a170c1",
   "metadata": {},
   "outputs": [
    {
     "name": "stdout",
     "output_type": "stream",
     "text": [
      "['hello', 'world', 'how', 'are', 'you']\n"
     ]
    }
   ],
   "source": [
    "#split():\n",
    "#convert string linto list\n",
    "#default value is whitespace\n",
    "\n",
    "text1='hello world how are you'\n",
    "print(text1.split())\n"
   ]
  },
  {
   "cell_type": "code",
   "execution_count": 176,
   "id": "112430c0-f3ed-4ceb-9710-2e69ebc0fb67",
   "metadata": {},
   "outputs": [
    {
     "name": "stdout",
     "output_type": "stream",
     "text": [
      "['one', 'two', 'three|four|sic']\n"
     ]
    }
   ],
   "source": [
    "text1=\"one|two|three|four|sic\"\n",
    "print(text1.split(\"|\",2))"
   ]
  },
  {
   "cell_type": "code",
   "execution_count": 180,
   "id": "239f8b22-af2f-44c2-94db-9f12967c1dbe",
   "metadata": {},
   "outputs": [
    {
     "name": "stdout",
     "output_type": "stream",
     "text": [
      "hari hello haii\n"
     ]
    }
   ],
   "source": [
    "#join():converts list into string\n",
    "#it joints the elements\n",
    "s=[\"hari\",\"hello\",\"haii\"]\n",
    "print(\" \".join(s))"
   ]
  },
  {
   "cell_type": "code",
   "execution_count": 184,
   "id": "1672fdf5-aca1-43c3-9452-21da28b47477",
   "metadata": {},
   "outputs": [
    {
     "name": "stdout",
     "output_type": "stream",
     "text": [
      "h-e-l-l-o\n"
     ]
    }
   ],
   "source": [
    "s1=\"hello\"\n",
    "print(\"-\".join(s1))"
   ]
  },
  {
   "cell_type": "code",
   "execution_count": 194,
   "id": "aa0c9634-e67d-497a-8a0c-c98ded6c1ed6",
   "metadata": {},
   "outputs": [
    {
     "name": "stdout",
     "output_type": "stream",
     "text": [
      "hello world\n",
      "++++++hello world\n",
      "hello world**********\n"
     ]
    }
   ],
   "source": [
    "#strip():removes the leading(begining) and trailing(end) characters\n",
    "#rstrip():removes the trailing characters\n",
    "#lstrip():remove the leading charaters\n",
    "my_string=\"++++++hello world**********\"\n",
    "print(my_string.strip(\"+*\"))\n",
    "print(my_string.rstrip(\"*\"))\n",
    "print(my_string.lstrip(\"+\"))"
   ]
  },
  {
   "cell_type": "code",
   "execution_count": 200,
   "id": "05e02754-bc6f-4611-91e0-51073402c7d4",
   "metadata": {},
   "outputs": [
    {
     "name": "stdout",
     "output_type": "stream",
     "text": [
      "Alice\n",
      "20\n",
      "my name is Alice my age is 20\n"
     ]
    }
   ],
   "source": [
    "#f-string(formatted string):\n",
    "name='Alice'\n",
    "age=20\n",
    "print(name)\n",
    "print(age)\n",
    "print(f\"my name is {name} my age is {age}\")"
   ]
  },
  {
   "cell_type": "code",
   "execution_count": 202,
   "id": "5a258625-18a0-47d1-9120-d43a0534a073",
   "metadata": {},
   "outputs": [],
   "source": [
    "# isalnum():return True if the characters sin the string is alpha numeric"
   ]
  },
  {
   "cell_type": "code",
   "execution_count": 208,
   "id": "155c4c21-5331-4452-8b9b-6b068a958998",
   "metadata": {},
   "outputs": [
    {
     "name": "stdout",
     "output_type": "stream",
     "text": [
      "True\n"
     ]
    }
   ],
   "source": [
    "s3='abc123'\n",
    "print(s3.isalnum())"
   ]
  },
  {
   "cell_type": "code",
   "execution_count": 220,
   "id": "a9a7a5e6-8658-43c7-b6ad-8da0033b5628",
   "metadata": {},
   "outputs": [
    {
     "name": "stdout",
     "output_type": "stream",
     "text": [
      "True\n",
      "False\n"
     ]
    }
   ],
   "source": [
    "#isalpha():return True if the characters sin the string is alpha \n",
    "s3='atul'\n",
    "s2='123'\n",
    "print(s3.isalpha())\n",
    "print(s2.isalpha())"
   ]
  },
  {
   "cell_type": "code",
   "execution_count": 222,
   "id": "aa081cff-17a7-47a5-bbb9-2c656b64babe",
   "metadata": {},
   "outputs": [
    {
     "name": "stdout",
     "output_type": "stream",
     "text": [
      "False\n",
      "True\n"
     ]
    }
   ],
   "source": [
    "#isdigit():return True if the characters sin the string is digit\n",
    "s3='atul'\n",
    "s2='123'\n",
    "print(s3.isdigit())\n",
    "print(s2.isdigit())"
   ]
  },
  {
   "cell_type": "code",
   "execution_count": 224,
   "id": "dd218e28-6a2e-4e33-9265-526e4efeb8d8",
   "metadata": {},
   "outputs": [
    {
     "name": "stdout",
     "output_type": "stream",
     "text": [
      "True\n",
      "False\n"
     ]
    }
   ],
   "source": [
    "#isupper():return True if the characters sin the string is upper\n",
    "s3='ATUL'\n",
    "s2='atul'\n",
    "print(s3.isupper())\n",
    "print(s2.isupper())"
   ]
  },
  {
   "cell_type": "code",
   "execution_count": 226,
   "id": "49839ff7-b2e7-4cc2-abb1-582ea610a32b",
   "metadata": {},
   "outputs": [
    {
     "name": "stdout",
     "output_type": "stream",
     "text": [
      "False\n",
      "True\n"
     ]
    }
   ],
   "source": [
    "#islower():return True if the characters sin the string is lower \n",
    "s3='ATUL'\n",
    "s2='atul'\n",
    "print(s3.islower())\n",
    "print(s2.islower())"
   ]
  },
  {
   "cell_type": "code",
   "execution_count": null,
   "id": "f3585f88-1d07-47c8-a9e4-ab67db78cb6a",
   "metadata": {},
   "outputs": [],
   "source": []
  }
 ],
 "metadata": {
  "kernelspec": {
   "display_name": "Python [conda env:base] *",
   "language": "python",
   "name": "conda-base-py"
  },
  "language_info": {
   "codemirror_mode": {
    "name": "ipython",
    "version": 3
   },
   "file_extension": ".py",
   "mimetype": "text/x-python",
   "name": "python",
   "nbconvert_exporter": "python",
   "pygments_lexer": "ipython3",
   "version": "3.12.2"
  }
 },
 "nbformat": 4,
 "nbformat_minor": 5
}
