{
 "cells": [
  {
   "cell_type": "code",
   "execution_count": 16,
   "id": "96828f0a-bed2-49e9-9e56-d128cecb99c1",
   "metadata": {},
   "outputs": [
    {
     "name": "stdout",
     "output_type": "stream",
     "text": [
      "<class 'int'>\n",
      "<class 'tuple'>\n",
      "<class 'str'>\n",
      "<class 'str'>\n"
     ]
    }
   ],
   "source": [
    "#homogenus\n",
    "l=[1,2.3,\"hello\",(1,2,3,'welcome')]\n",
    "print(type(l[0]))\n",
    "print(type(l[3]))\n",
    "print(type(l[2]))\n",
    "print(type(l[3][3]))"
   ]
  },
  {
   "cell_type": "markdown",
   "id": "0133624f-47f5-46c7-85eb-fa34ac4dd881",
   "metadata": {},
   "source": [
    "## list"
   ]
  },
  {
   "cell_type": "code",
   "execution_count": 18,
   "id": "33207de0-a33c-4f5f-9555-5b786a7d6c95",
   "metadata": {},
   "outputs": [
    {
     "name": "stdout",
     "output_type": "stream",
     "text": [
      "None\n",
      "None\n",
      "[1, 2, 3, 4, 5, 6, [1, 2, 3, 2]]\n"
     ]
    }
   ],
   "source": [
    "#list method\n",
    "#adding elemeents to the list \n",
    "#append():it adds the elements at the end of the list \n",
    "#syntac:list.append(element)\n",
    "#elements can be of any datatype\n",
    "l=[1,2,3,4,5]\n",
    "print(l.append(6))\n",
    "print(l.append([1,2,3,2]))\n",
    "print(l)"
   ]
  },
  {
   "cell_type": "code",
   "execution_count": null,
   "id": "3f975fc6-d7d8-4b19-8f18-32504e840e6a",
   "metadata": {},
   "outputs": [],
   "source": []
  },
  {
   "cell_type": "code",
   "execution_count": 40,
   "id": "bee107fe-4930-419c-a7c1-a6852acfabc5",
   "metadata": {},
   "outputs": [
    {
     "name": "stdout",
     "output_type": "stream",
     "text": [
      "None\n",
      "[1, 2, 3, 4, 5, 1, 2, 3, 2]\n"
     ]
    }
   ],
   "source": [
    "#extend():it extend the list with the given items in the sequence order\n",
    "#elements must be collection datatypes\n",
    "#syntax:list.extend(iterable) #collection dtype\n",
    "l=[1,2,3,4,5]\n",
    "print(l.extend([1,2,3,2]))\n",
    "print(l)\n"
   ]
  },
  {
   "cell_type": "code",
   "execution_count": 42,
   "id": "3f1d1274-a2e0-4ad6-916c-69bc16f91b19",
   "metadata": {},
   "outputs": [
    {
     "name": "stdout",
     "output_type": "stream",
     "text": [
      "['akamai', 'apple', 'google', 'facebook']\n"
     ]
    }
   ],
   "source": [
    "#insert():it ass the elements is the specified position\n",
    "#elemets can be of any datatypes\n",
    "#sytax:list.insert(position,elements)\n",
    "list1=[\"apple\",\"google\",\"facebook\"]\n",
    "list1.insert(0,'akamai')\n",
    "print(list1)"
   ]
  },
  {
   "cell_type": "code",
   "execution_count": 50,
   "id": "b220e6ce-4851-4157-a69e-8606d275a641",
   "metadata": {},
   "outputs": [
    {
     "name": "stdout",
     "output_type": "stream",
     "text": [
      "apple\n",
      "['akamai', 'google', 'facebook']\n"
     ]
    }
   ],
   "source": [
    "#removing the elemenst from the list \n",
    "#pop():remove the elements frim the specifed position\n",
    "#syntax:list.pop(position)\n",
    "#return the removed elements\n",
    "#by defalut pop() remove the last element of the list\n",
    "list1=['akamai', 'apple', 'google', 'facebook']\n",
    "print(list1.pop(1))\n",
    "print(list1)"
   ]
  },
  {
   "cell_type": "code",
   "execution_count": 58,
   "id": "f4553bd5-5ea5-4671-a0c8-d05ad7445f1e",
   "metadata": {},
   "outputs": [
    {
     "name": "stdout",
     "output_type": "stream",
     "text": [
      "None\n",
      "['instagram', 'whatsapp', 'zohomail', 'arattai']\n"
     ]
    }
   ],
   "source": [
    "#remove():remove the first occuurance of the elements spefied\n",
    "#syntax:list.remove(elemts)\n",
    "name1=[\"instagram\",\"whatsapp\",\"gmail\",\"zohomail\",\"arattai\"]\n",
    "print(name1.remove('gmail'))\n",
    "# print(name1.remove('hari'))\n",
    "print(name1)"
   ]
  },
  {
   "cell_type": "code",
   "execution_count": 66,
   "id": "c84e6351-14fd-422f-a2dd-04b4d5711a1f",
   "metadata": {},
   "outputs": [
    {
     "name": "stdout",
     "output_type": "stream",
     "text": [
      "None\n"
     ]
    },
    {
     "data": {
      "text/plain": [
       "[]"
      ]
     },
     "execution_count": 66,
     "metadata": {},
     "output_type": "execute_result"
    }
   ],
   "source": [
    "#clear():clear the entire list\n",
    "#syntax:list.clear()\n",
    "name1=[\"instagram\",\"whatsapp\",\"gmail\",\"zohomail\",\"arattai\"]\n",
    "print(name1.clear())\n",
    "name1"
   ]
  },
  {
   "cell_type": "code",
   "execution_count": 70,
   "id": "1cd6e4f9-691d-45b7-b901-d4450495872d",
   "metadata": {},
   "outputs": [
    {
     "ename": "NameError",
     "evalue": "name 'name1' is not defined",
     "output_type": "error",
     "traceback": [
      "\u001b[0;31m---------------------------------------------------------------------------\u001b[0m",
      "\u001b[0;31mNameError\u001b[0m                                 Traceback (most recent call last)",
      "Cell \u001b[0;32mIn[70], line 3\u001b[0m\n\u001b[1;32m      1\u001b[0m name1\u001b[38;5;241m=\u001b[39m[\u001b[38;5;124m\"\u001b[39m\u001b[38;5;124minstagram\u001b[39m\u001b[38;5;124m\"\u001b[39m,\u001b[38;5;124m\"\u001b[39m\u001b[38;5;124mwhatsapp\u001b[39m\u001b[38;5;124m\"\u001b[39m,\u001b[38;5;124m\"\u001b[39m\u001b[38;5;124mgmail\u001b[39m\u001b[38;5;124m\"\u001b[39m,\u001b[38;5;124m\"\u001b[39m\u001b[38;5;124mzohomail\u001b[39m\u001b[38;5;124m\"\u001b[39m,\u001b[38;5;124m\"\u001b[39m\u001b[38;5;124marattai\u001b[39m\u001b[38;5;124m\"\u001b[39m]\n\u001b[1;32m      2\u001b[0m \u001b[38;5;28;01mdel\u001b[39;00m name1\n\u001b[0;32m----> 3\u001b[0m \u001b[38;5;28mprint\u001b[39m(name1)\n",
      "\u001b[0;31mNameError\u001b[0m: name 'name1' is not defined"
     ]
    }
   ],
   "source": [
    "name1=[\"instagram\",\"whatsapp\",\"gmail\",\"zohomail\",\"arattai\"]\n",
    "del name1\n",
    "print(name1)"
   ]
  },
  {
   "cell_type": "code",
   "execution_count": 72,
   "id": "cd560da3-2c38-47c4-90a5-d0ed564149ed",
   "metadata": {},
   "outputs": [
    {
     "name": "stdout",
     "output_type": "stream",
     "text": [
      "0\n"
     ]
    }
   ],
   "source": [
    "#index():\n",
    "#return the index of the first element with the specified value\n",
    "name1=['zohomail',\"instagram\",\"whatsapp\",\"gmail\",\"zohomail\",\"arattai\"]\n",
    "print(name1.index('zohomail'))"
   ]
  },
  {
   "cell_type": "code",
   "execution_count": 74,
   "id": "52f821e9-fb13-4767-8465-e25998def499",
   "metadata": {},
   "outputs": [
    {
     "name": "stdout",
     "output_type": "stream",
     "text": [
      "2\n"
     ]
    }
   ],
   "source": [
    "#count():return the number of occurance of the spefied element\n",
    "#syntac:list.count(element)\n",
    "name1=['zohomail',\"instagram\",\"whatsapp\",\"gmail\",\"zohomail\",\"arattai\"]\n",
    "print(name1.count('zohomail'))"
   ]
  },
  {
   "cell_type": "code",
   "execution_count": 86,
   "id": "db161ac4-2971-4046-b360-68de042a378d",
   "metadata": {},
   "outputs": [
    {
     "name": "stdout",
     "output_type": "stream",
     "text": [
      "None\n",
      "['arattai', 'gmail', 'instagram', 'whatsapp', 'zohomail', 'zohomail']\n",
      "103\n"
     ]
    }
   ],
   "source": [
    "#sorting a list\n",
    "#sort()\n",
    "#in order to sort the list it must be homogenus\n",
    "#it modifies the original list\n",
    "name1=['zohomail',\"instagram\",\"whatsapp\",\"gmail\",\"zohomail\",\"arattai\"]\n",
    "print(name1.sort())\n",
    "print(name1)\n",
    "print(ord(name1[1][0]))"
   ]
  },
  {
   "cell_type": "code",
   "execution_count": 90,
   "id": "d96039f9-cf84-4e0a-b272-1f94edcdfa72",
   "metadata": {},
   "outputs": [
    {
     "name": "stdout",
     "output_type": "stream",
     "text": [
      "None\n"
     ]
    }
   ],
   "source": [
    "print(name1.sort(key=len,reverse=False))"
   ]
  },
  {
   "cell_type": "code",
   "execution_count": 92,
   "id": "a1e68b7d-1ea8-4247-be46-7975d352ce85",
   "metadata": {},
   "outputs": [
    {
     "name": "stdout",
     "output_type": "stream",
     "text": [
      "[1, 2, 3, 4]\n",
      "[1, 2, 3, 4]\n",
      "5660470336\n",
      "5714904192\n"
     ]
    }
   ],
   "source": [
    "#copy():return the copy of the list\n",
    "#syntax:list.copy()\n",
    "#shallowcopy():in this method elements of the main list will be copied to the new list as its is and memoryloacation will diffrent ,unless the main list is having the nested list if the main list is having nested list ,the \n",
    "\n",
    "a=[1,2,3,4]\n",
    "b=a.copy()\n",
    "print(a)\n",
    "print(b)\n",
    "print(id(a))\n",
    "print(id(b))"
   ]
  },
  {
   "cell_type": "code",
   "execution_count": 98,
   "id": "049b6034-700f-4abb-af3b-10a1f7913079",
   "metadata": {},
   "outputs": [
    {
     "name": "stdout",
     "output_type": "stream",
     "text": [
      "[1, 2, 3, 4, ['hai', 'hello']]\n",
      "[1, 2, 3, 4, ['hai', 'hello']]\n",
      "5714894656\n",
      "5715116480\n",
      "5715121088\n",
      "5715121088\n"
     ]
    }
   ],
   "source": [
    "#with nested list\n",
    "c=[1,2,3,4,[\"hai\",\"hello\"]]\n",
    "d=c.copy()\n",
    "print(c)\n",
    "print(d)\n",
    "print(id(c))\n",
    "print(id(d))\n",
    "print(id(c[4]))\n",
    "print(id(d[4]))\n"
   ]
  },
  {
   "cell_type": "code",
   "execution_count": 108,
   "id": "a57f9be2-1534-4eaa-bd23-4572560915f2",
   "metadata": {},
   "outputs": [
    {
     "name": "stdout",
     "output_type": "stream",
     "text": [
      "4698216832\n",
      "4698213888\n",
      "4698215040\n",
      "4698213376\n"
     ]
    }
   ],
   "source": [
    "#deepcopy():in this method elements of the main list will be copied to the new list as its is and memoryloacation will diffrent even for the nested list\n",
    "from copy import deepcopy\n",
    "a=[1,2,3,[4,5,\"hello\"]]\n",
    "b=deepcopy(a)\n",
    "print(id(a))\n",
    "print(id(b))\n",
    "print(id(a[3]))\n",
    "print(id(b[3]))"
   ]
  },
  {
   "cell_type": "code",
   "execution_count": 110,
   "id": "21e829fa-7c9f-4ebf-aaae-69e56f7e32df",
   "metadata": {},
   "outputs": [
    {
     "name": "stdout",
     "output_type": "stream",
     "text": [
      "[1, 2, 3, 4, 5, 6]\n"
     ]
    }
   ],
   "source": [
    "l1=[1,2,3]\n",
    "l2=[4,5,6]\n",
    "print(l1+l2)"
   ]
  },
  {
   "cell_type": "code",
   "execution_count": null,
   "id": "b73cf36e-a0a2-456b-b12f-27bfdc485ef6",
   "metadata": {},
   "outputs": [],
   "source": []
  }
 ],
 "metadata": {
  "kernelspec": {
   "display_name": "Python [conda env:base] *",
   "language": "python",
   "name": "conda-base-py"
  },
  "language_info": {
   "codemirror_mode": {
    "name": "ipython",
    "version": 3
   },
   "file_extension": ".py",
   "mimetype": "text/x-python",
   "name": "python",
   "nbconvert_exporter": "python",
   "pygments_lexer": "ipython3",
   "version": "3.12.2"
  }
 },
 "nbformat": 4,
 "nbformat_minor": 5
}
